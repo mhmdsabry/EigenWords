{
 "cells": [
  {
   "cell_type": "code",
   "execution_count": 1,
   "metadata": {
    "collapsed": false,
    "deletable": true,
    "editable": true
   },
   "outputs": [],
   "source": [
    "import io, sys\n",
    "import numpy as np \n",
    "from sklearn.decomposition import PCA\n",
    "import matplotlib.pyplot as plt\n",
    "import seaborn as sns\n",
    "\n",
    "%matplotlib inline"
   ]
  },
  {
   "cell_type": "code",
   "execution_count": 2,
   "metadata": {
    "collapsed": true,
    "deletable": true,
    "editable": true
   },
   "outputs": [],
   "source": [
    "def load_vectors(filename):\n",
    "    fin = io.open(filename, 'r', encoding='utf-8', newline='\\n')\n",
    "    n, d = map(int, fin.readline().split())\n",
    "    data = {}\n",
    "    for line in fin:\n",
    "        tokens = line.rstrip().split(' ')\n",
    "        data[tokens[0]] = np.asarray([float(x) for x in tokens[1:]])\n",
    "    return data"
   ]
  },
  {
   "cell_type": "code",
   "execution_count": 3,
   "metadata": {
    "collapsed": false,
    "deletable": true,
    "editable": true
   },
   "outputs": [],
   "source": [
    "word_vectors = load_vectors('wiki.en.vec')"
   ]
  },
  {
   "cell_type": "code",
   "execution_count": 4,
   "metadata": {
    "collapsed": false,
    "deletable": true,
    "editable": true
   },
   "outputs": [
    {
     "data": {
      "text/plain": [
       "(300, 12000)"
      ]
     },
     "execution_count": 4,
     "metadata": {},
     "output_type": "execute_result"
    }
   ],
   "source": [
    "vectors = []\n",
    "\n",
    "for vector in word_vectors.values():\n",
    "    vectors.append(vector)\n",
    "\n",
    "eigenwords = np.stack(vectors,axis=-1)\n",
    "eigenwords.shape"
   ]
  },
  {
   "cell_type": "code",
   "execution_count": 5,
   "metadata": {
    "collapsed": false,
    "deletable": true,
    "editable": true
   },
   "outputs": [
    {
     "data": {
      "text/plain": [
       "(300, 11997)"
      ]
     },
     "execution_count": 5,
     "metadata": {},
     "output_type": "execute_result"
    }
   ],
   "source": [
    "# delete few words from the eigen words, latter we show how we able to construct them from the eigen modes\n",
    "\n",
    "eigenwords = np.delete(eigenwords,np.s_[:3],axis=1)\n",
    "eigenwords.shape\n"
   ]
  },
  {
   "cell_type": "code",
   "execution_count": 6,
   "metadata": {
    "collapsed": false,
    "deletable": true,
    "editable": true
   },
   "outputs": [],
   "source": [
    "# SVD decomposition\n",
    "\n",
    "U, Sigma, Vt = np.linalg.svd(eigenwords, full_matrices=0)\n"
   ]
  },
  {
   "cell_type": "code",
   "execution_count": 7,
   "metadata": {
    "collapsed": false,
    "deletable": true,
    "editable": true
   },
   "outputs": [
    {
     "data": {
      "text/plain": [
       "(300, 300)"
      ]
     },
     "execution_count": 7,
     "metadata": {},
     "output_type": "execute_result"
    }
   ],
   "source": [
    "# eigen modes\n",
    "U.shape"
   ]
  },
  {
   "cell_type": "code",
   "execution_count": 8,
   "metadata": {
    "collapsed": false,
    "deletable": true,
    "editable": true
   },
   "outputs": [
    {
     "data": {
      "text/plain": [
       "(300,)"
      ]
     },
     "execution_count": 8,
     "metadata": {},
     "output_type": "execute_result"
    }
   ],
   "source": [
    "#scaling matrix\n",
    "Sigma.shape"
   ]
  },
  {
   "cell_type": "code",
   "execution_count": 9,
   "metadata": {
    "collapsed": false,
    "deletable": true,
    "editable": true,
    "scrolled": false
   },
   "outputs": [
    {
     "name": "stderr",
     "output_type": "stream",
     "text": [
      "C:\\Users\\Fujitsu\\Anaconda3\\lib\\site-packages\\matplotlib\\axes\\_axes.py:6521: MatplotlibDeprecationWarning: \n",
      "The 'normed' kwarg was deprecated in Matplotlib 2.1 and will be removed in 3.1. Use 'density' instead.\n",
      "  alternative=\"'density'\", removal=\"3.1\")\n"
     ]
    },
    {
     "data": {
      "text/plain": [
       "<seaborn.axisgrid.JointGrid at 0x2255ec40cc0>"
      ]
     },
     "execution_count": 9,
     "metadata": {},
     "output_type": "execute_result"
    },
    {
     "data": {
      "text/plain": [
       "<Figure size 1440x360 with 0 Axes>"
      ]
     },
     "metadata": {},
     "output_type": "display_data"
    },
    {
     "data": {
      "image/png": "[encoded data removed]",
      "text/plain": [
       "<Figure size 432x432 with 3 Axes>"
      ]
     },
     "metadata": {},
     "output_type": "display_data"
    }
   ],
   "source": [
    "# visualize 2 pca components from U\n",
    "\n",
    "plt.figure(figsize=(20,5))\n",
    "\n",
    "pca = PCA(n_components=2)\n",
    "wv_transformed_U = pca.fit_transform(U)\n",
    "\n",
    "sns.jointplot(wv_transformed_U[:,0],wv_transformed_U[:,1])\n"
   ]
  },
  {
   "cell_type": "code",
   "execution_count": 10,
   "metadata": {
    "collapsed": false
   },
   "outputs": [
    {
     "name": "stderr",
     "output_type": "stream",
     "text": [
      "C:\\Users\\Fujitsu\\Anaconda3\\lib\\site-packages\\matplotlib\\axes\\_axes.py:6521: MatplotlibDeprecationWarning: \n",
      "The 'normed' kwarg was deprecated in Matplotlib 2.1 and will be removed in 3.1. Use 'density' instead.\n",
      "  alternative=\"'density'\", removal=\"3.1\")\n"
     ]
    },
    {
     "data": {
      "text/plain": [
       "<seaborn.axisgrid.JointGrid at 0x225657f8908>"
      ]
     },
     "execution_count": 10,
     "metadata": {},
     "output_type": "execute_result"
    },
    {
     "data": {
      "image/png": "[encoded data removed]",
      "text/plain": [
       "<Figure size 432x432 with 3 Axes>"
      ]
     },
     "metadata": {},
     "output_type": "display_data"
    }
   ],
   "source": [
    "#visualize 2 pca components frpm eigenwords\n",
    "\n",
    "wv_transformed_eigenwords = pca.fit_transform(eigenwords)\n",
    "\n",
    "sns.jointplot(wv_transformed_eigenwords[:,0],wv_transformed_eigenwords[:,1])"
   ]
  },
  {
   "cell_type": "code",
   "execution_count": 11,
   "metadata": {
    "collapsed": false,
    "deletable": true,
    "editable": true,
    "scrolled": false
   },
   "outputs": [
    {
     "data": {
      "text/plain": [
       "<matplotlib.legend.Legend at 0x22565a76860>"
      ]
     },
     "execution_count": 11,
     "metadata": {},
     "output_type": "execute_result"
    },
    {
     "data": {
      "image/png": "[encoded data removed]",
      "text/plain": [
       "<Figure size 1440x360 with 1 Axes>"
      ]
     },
     "metadata": {},
     "output_type": "display_data"
    }
   ],
   "source": [
    "plt.figure(figsize=(20,5))\n",
    "\n",
    "wv_transformed_eigenwords = pca.fit_transform(eigenwords)\n",
    "plt.scatter(wv_transformed_eigenwords[:,0],wv_transformed_eigenwords[:,1],c='k',label='EigenWords')\n",
    "\n",
    "wv_transformed_U = pca.fit_transform(U)\n",
    "plt.scatter(wv_transformed_U[:,0],wv_transformed_U[:,1],c='r',marker='^',label='EigenModes')\n",
    "\n",
    "plt.legend()"
   ]
  },
  {
   "cell_type": "code",
   "execution_count": 12,
   "metadata": {
    "collapsed": true,
    "deletable": true,
    "editable": true
   },
   "outputs": [],
   "source": [
    "# This function computes the cosine similarity between vectors u and v\n",
    "\n",
    "def cosine(u, v):\n",
    "    cos = np.dot(u, v)/(np.linalg.norm(u) * np.linalg.norm(v))\n",
    "    \n",
    "    return cos "
   ]
  },
  {
   "cell_type": "code",
   "execution_count": 13,
   "metadata": {
    "collapsed": false,
    "deletable": true,
    "editable": true,
    "scrolled": true
   },
   "outputs": [],
   "source": [
    "# This function returns the word corresponding to the nearest neighbor vector of x\n",
    "\n",
    "def nearest_neighbor(x, word_vectors):\n",
    "    best_score = -1.0\n",
    "    best_word = None    \n",
    "    for word, v in word_vectors.items():\n",
    "        score = cosine(x, v)\n",
    "        if score > best_score:\n",
    "            best_score = score\n",
    "            best_word = word \n",
    "            \n",
    "    return best_word\n"
   ]
  },
  {
   "cell_type": "code",
   "execution_count": 14,
   "metadata": {
    "collapsed": false,
    "deletable": true,
    "editable": true,
    "scrolled": false
   },
   "outputs": [
    {
     "name": "stdout",
     "output_type": "stream",
     "text": [
      "The best nearest words for Eigen modes in word vectors are:\n",
      " \n",
      "['that', 'population_density_blank', 'frances', 'neighbouring', 'surface', 'microsoft', 'classical', 'serbia', 'multimedia', 'here', 'diverse', 'pitchers', 'cia', 'vs', 'nagar', 'maría', 'downtown', 'imported', 'honors', 'rounded', 'fencing', 'powder', 'abortion', 'pillars', 'discovers', 'unveiled', 'wards', 'deportivo', 'ambassadors', 'listen', 'percussion', 'maintenance', 'treatise', 'villains', 'wei', '_state', 'breakthrough', 'exceptional', 'petition', 'reputation', 'pronunciation', 'souls', 'sunk', 'rovers', 'freedom', 'portions', 'traveling', 'falcon', 'dining', 'timezone', 'indefinitely', 'output', 'neologism', 'displacement', 'accessdate', 'rom', 'com/search', 'notre', 'travels', 'calculated', 'marseille', 'hanna', 'elena', 'animation', 'liberia', 'requested', 'publishes', 'tide', 'prodcode', 'guided', 'connections', 'georges', 'appeal', 'shorts', 'fp', 'sitting', 'trains', 'flute', 'bas', 'holdings', 'canal', 'trades', 'reception', 'collector', 'crop', 'hr', 'ajax', 'fn', 'possibilities', 'routes', 'scandal', 'avg', 'cylinder', 'modeling', 'radius', 'stoke', 'deities', 'smoke', 'brave', 'persistent', 'hanging', 'cartridge', 'courts', 'ra', 'cia', 'heritage', 'dartmouth', 'ap', 'isolation', 'sci', 'correction', 'annual', 'sci', 'synonym', 'bio', 'grid', 'berry', 'syracuse', 'cycle', 'mir', 'fur', 'ch', 'barrow', 'ap', 'lucas', 'cuts', 'tall', 'surf', 'constable', 'picks', 'gale', 'acronym', 'circuits', 'alternate', 'mountain', 'cartoonist', 'tracked', 'spirit', 'burn', 'swan', 'ar', 'dab', 'put', 'alexis', 'po', 'super', 'tagging', 'elvis', 'warwick', 'gran', 'dell', 'saturn', 'unknown', 'witnessed', 'streak', 'belize', 'universal', 'hole', 'sarajevo', 'comet', 'heads', '•', 'marcus', 'apache', 'je', 'dictionary', 'programming', '+', 'secondary', 'revert', 'metro', 'automatic', 'territorial', 'grand', 'alexis', 'torn', 'wilmington', 'massacre', 'ultra', 'kaiser', 'greatest', 'bk', 'v', 'stevens', 'x', 'dia', 'small', 'paolo', 'ap', 'dd', 'hare', 'ki', 'eli', 't/', 'none', 'ii', 'eve', '?', 'cornish', 'nationwide', 'shared', 'antony', 'quinn', 'minor', 'ev', 'turn', 'romanian', 'million', 'cyclist', 'saint', 'sam', 'effectively', 'thomas', 'clive', 'stephen', 'd', 'self', 'park', 'namespace', 'notes', 'great', 'st', 'stolen', 'ny', 'free', 'living', 'thumb', 'short', 'times', 'julian', 'fellow', 'california', 'acts', 'list', '→', 'minister', 'gentlemen', 'davis', 'cl', 'angel', 'men', 'nj', 'unit', 'si', 'other', 'games', 'upon', 'dutch', 'international', 'legion', 'bad', 'days', 'tale', 'gus', 'van', 'stage', 'g', 'area', 'house', 'throughout', 'per', 'followed', 'm', 'figure', 'archive', 'principal', 'order', 'co', 'hispanic', 'p', 'new', 't', '%', 'davenport', 'co', 'less', 'into', 'st', 'for', 'on', 'every', 'out', 'now', 'with', 'us', '>', 'd', 'added', 'has', 'did', 'been', ',', ',', 'no', 'their', 'august', 'august', 'december', 'was', 'the']\n"
     ]
    }
   ],
   "source": [
    "# return the nearest neighbors of eigen modes(U matrix) in word vectors\n",
    "\n",
    "best_words = []\n",
    "for col in range(300):\n",
    "    best_words.append(nearest_neighbor(np.transpose(U[0:300,col]),word_vectors))\n",
    "    \n",
    "print('The best nearest words for Eigen modes in word vectors are:')\n",
    "print(' ')\n",
    "print(best_words)\n",
    "    "
   ]
  },
  {
   "cell_type": "markdown",
   "metadata": {},
   "source": [
    "\n",
    "\n",
    "\n",
    "To make sense from the cell above: I don't really know how construct words from vector(there is no vec2word) in order to see what are the most dominant words in U matrix, so insteed I did my best and found the nearset words in words verctors to the dominant words in U.\n",
    "\n",
    "\n",
    "\n",
    "\n",
    "\n",
    "\n",
    "\n"
   ]
  },
  {
   "cell_type": "code",
   "execution_count": 15,
   "metadata": {
    "collapsed": false,
    "deletable": true,
    "editable": true
   },
   "outputs": [
    {
     "name": "stdout",
     "output_type": "stream",
     "text": [
      "At rank 10 the word is :\n",
      "and\n",
      " \n",
      "At rank 30 the word is :\n",
      ",\n",
      " \n",
      "At rank 60 the word is :\n",
      ",\n",
      " \n",
      "At rank 90 the word is :\n",
      ",\n",
      " \n",
      "At rank 120 the word is :\n",
      ",\n",
      " \n",
      "At rank 150 the word is :\n",
      ",\n",
      " \n",
      "At rank 180 the word is :\n",
      ",\n",
      " \n",
      "At rank 210 the word is :\n",
      ",\n",
      " \n",
      "At rank 240 the word is :\n",
      ",\n",
      " \n",
      "At rank 270 the word is :\n",
      ",\n",
      " \n",
      "At rank 300 the word is :\n",
      ",\n",
      " \n"
     ]
    }
   ],
   "source": [
    "# remmeber the words we previously deleted from our eigen words dataset [',' '.' 'the']\n",
    "# can we construct them usig compressed informations presented by eigen modes (U matrix)?\n",
    "# let's construct the word '.' which was left out when we compute the svd decomposition\n",
    "# R is number of modes we are willing to take from eigen modes (U matrix)\n",
    "\n",
    "R = [10,30,60,90,120,150,180,210,240,270,300]\n",
    "\n",
    "for r in R:\n",
    "    #alpha contain compressed information about the word\n",
    "    alpha = np.dot(np.transpose(U[0:300,:r]), np.transpose(word_vectors[',']))\n",
    "                   \n",
    "    #Project alpha on u, so we can what's word is projected is it same word which has been deleted from eigenwords\n",
    "    x_hat = np.dot(U[0:300,:r],alpha)\n",
    "    \n",
    "    print('At rank %i the word is :'%(r))\n",
    "    print(nearest_neighbor(x_hat,word_vectors))\n",
    "    print(' ')\n",
    "    \n"
   ]
  },
  {
   "cell_type": "code",
   "execution_count": 16,
   "metadata": {
    "collapsed": false,
    "deletable": true,
    "editable": true
   },
   "outputs": [
    {
     "data": {
      "text/plain": [
       "<matplotlib.legend.Legend at 0x225658c5780>"
      ]
     },
     "execution_count": 16,
     "metadata": {},
     "output_type": "execute_result"
    },
    {
     "data": {
      "image/png": "[encoded data removed]",
      "text/plain": [
       "<Figure size 432x288 with 1 Axes>"
      ]
     },
     "metadata": {},
     "output_type": "display_data"
    }
   ],
   "source": [
    "#check the bais in the eigenwords using only the compressed information (alpha)\n",
    "\n",
    "alpha_man = np.dot(np.transpose(U[0:300,10:12]), np.transpose(word_vectors['man']))\n",
    "alpha_woman = np.dot(np.transpose(U[0:300,10:12]), np.transpose(word_vectors['woman']))\n",
    "alpha_executive = np.dot(np.transpose(U[0:300,10:12]), np.transpose(word_vectors['executive']))\n",
    "\n",
    "plt.plot(alpha_man[0,],alpha_man[1,],'d',color='k',label='man')\n",
    "plt.plot(alpha_woman[0,],alpha_woman[1,],'^',color='r',label='woman')\n",
    "plt.plot(alpha_executive[0,],alpha_executive[1,],'*',color='b',label='executive')\n",
    "\n",
    "plt.legend()"
   ]
  },
  {
   "cell_type": "code",
   "execution_count": 17,
   "metadata": {
    "collapsed": true,
    "deletable": true,
    "editable": true
   },
   "outputs": [],
   "source": [
    "# This function return the words d, such that a:b and c:d verifies the same relation\n",
    "# compute it, in the compressed domain\n",
    "\n",
    "def analogy(a, b, c,eigenmodes,word_vectors):\n",
    "    \n",
    "    va = np.dot(np.transpose(eigenmodes), np.transpose(word_vectors[a]))\n",
    "    vb = np.dot(np.transpose(eigenmodes), np.transpose(word_vectors[b]))\n",
    "    vc = np.dot(np.transpose(eigenmodes), np.transpose(word_vectors[c]))\n",
    "    \n",
    "    va = va/np.linalg.norm(va)\n",
    "    vb = vb/np.linalg.norm(vb)\n",
    "    vc = vc/np.linalg.norm(vc)\n",
    "    analogy_word = np.dot(eigenmodes,((vb - va) + vc))\n",
    "    \n",
    "    return nearest_neighbor(analogy_word, word_vectors)"
   ]
  },
  {
   "cell_type": "code",
   "execution_count": 18,
   "metadata": {
    "collapsed": false,
    "deletable": true,
    "editable": true
   },
   "outputs": [
    {
     "name": "stdout",
     "output_type": "stream",
     "text": [
      "\n",
      "france - paris + rome = morocco\n",
      "\n",
      "france - paris + rome = portugal\n",
      "\n",
      "france - paris + rome = italy\n",
      "\n",
      "france - paris + rome = italy\n",
      "\n",
      "france - paris + rome = italy\n",
      "\n",
      "france - paris + rome = italy\n",
      "\n",
      "france - paris + rome = italy\n",
      "\n",
      "france - paris + rome = italy\n",
      "\n",
      "france - paris + rome = italy\n",
      "\n",
      "france - paris + rome = italy\n",
      "\n",
      "france - paris + rome = italy\n"
     ]
    }
   ],
   "source": [
    "R = [10,30,60,90,120,150,180,210,240,270,300]\n",
    "for r in R:\n",
    "    print('')\n",
    "    print('france - paris + rome = ' + analogy('paris', 'france', 'rome', U[0:300,0:r],word_vectors))"
   ]
  },
  {
   "cell_type": "code",
   "execution_count": null,
   "metadata": {
    "collapsed": true
   },
   "outputs": [],
   "source": []
  }
 ],
 "metadata": {
  "kernelspec": {
   "display_name": "Python 3",
   "language": "python",
   "name": "python3"
  },
  "language_info": {
   "codemirror_mode": {
    "name": "ipython",
    "version": 3
   },
   "file_extension": ".py",
   "mimetype": "text/x-python",
   "name": "python",
   "nbconvert_exporter": "python",
   "pygments_lexer": "ipython3",
   "version": "3.6.6"
  }
 },
 "nbformat": 4,
 "nbformat_minor": 2
}
